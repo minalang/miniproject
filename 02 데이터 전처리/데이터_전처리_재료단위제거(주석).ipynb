{
  "nbformat": 4,
  "nbformat_minor": 0,
  "metadata": {
    "kernelspec": {
      "display_name": "Python 3 (ipykernel)",
      "language": "python",
      "name": "python3"
    },
    "language_info": {
      "codemirror_mode": {
        "name": "ipython",
        "version": 3
      },
      "file_extension": ".py",
      "mimetype": "text/x-python",
      "name": "python",
      "nbconvert_exporter": "python",
      "pygments_lexer": "ipython3",
      "version": "3.7.11"
    },
    "colab": {
      "name": "데이터 전처리 - 재료단위제거.ipynb",
      "provenance": [],
      "collapsed_sections": []
    }
  },
  "cells": [
    {
      "cell_type": "code",
      "metadata": {
        "id": "LCsrgsrsoQDg"
      },
      "source": [
        "import pandas as pd\n",
        "data = pd.read_excel('./해먹남녀DATA.xlsx') # 파일경로와 파일명을 입력"
      ],
      "execution_count": null,
      "outputs": []
    },
    {
      "cell_type": "code",
      "metadata": {
        "scrolled": true,
        "id": "0IBcSZOzoQDh",
        "outputId": "34ab5aa4-c6fe-4e62-8039-14ed058f7460"
      },
      "source": [
        "data.head()"
      ],
      "execution_count": null,
      "outputs": [
        {
          "data": {
            "text/html": [
              "<div>\n",
              "<style scoped>\n",
              "    .dataframe tbody tr th:only-of-type {\n",
              "        vertical-align: middle;\n",
              "    }\n",
              "\n",
              "    .dataframe tbody tr th {\n",
              "        vertical-align: top;\n",
              "    }\n",
              "\n",
              "    .dataframe thead th {\n",
              "        text-align: right;\n",
              "    }\n",
              "</style>\n",
              "<table border=\"1\" class=\"dataframe\">\n",
              "  <thead>\n",
              "    <tr style=\"text-align: right;\">\n",
              "      <th></th>\n",
              "      <th>SOURCE</th>\n",
              "      <th>NUM</th>\n",
              "      <th>title</th>\n",
              "      <th>ingredient</th>\n",
              "      <th>pic</th>\n",
              "      <th>VIEW</th>\n",
              "      <th>RECIPE-1</th>\n",
              "      <th>RECIPE-2</th>\n",
              "      <th>INTRO</th>\n",
              "    </tr>\n",
              "  </thead>\n",
              "  <tbody>\n",
              "    <tr>\n",
              "      <th>0</th>\n",
              "      <td>해먹남녀</td>\n",
              "      <td>1</td>\n",
              "      <td>내 아이를 위한 건강한 이유식\\n전복죽</td>\n",
              "      <td>당근 10g 양파 20g 전복 1개 물 3 5컵 참기름 조금 쌀 35g</td>\n",
              "      <td>https://d1hk7gw6lgygff.cloudfront.net/video/97...</td>\n",
              "      <td>NaN</td>\n",
              "      <td>\\n당근과 양파는 0.6cm 정도 크기로 다진다.\\n전복은 살을 떼어내고 입과 내장...</td>\n",
              "      <td>NaN</td>\n",
              "      <td>NaN</td>\n",
              "    </tr>\n",
              "    <tr>\n",
              "      <th>1</th>\n",
              "      <td>해먹남녀</td>\n",
              "      <td>2</td>\n",
              "      <td>부드러운 식감! 포만감 가득!\\n호박찜나물</td>\n",
              "      <td>애호박 1개  양념  다진마늘 1 2큰술 간장 2큰술 설탕 1큰술 소금 1 3작은...</td>\n",
              "      <td>https://cloudfront.haemukja.com/vh.php?url=htt...</td>\n",
              "      <td>NaN</td>\n",
              "      <td>\\n안녕하세요. 푸드텔러 입니다. :)\\n이번에는 건강과 다이어트에도 좋은 호박찜나...</td>\n",
              "      <td>NaN</td>\n",
              "      <td>NaN</td>\n",
              "    </tr>\n",
              "    <tr>\n",
              "      <th>2</th>\n",
              "      <td>해먹남녀</td>\n",
              "      <td>3</td>\n",
              "      <td>뉴요커 입맛 사로잡은 식품\\n렌틸콩 카레라이스</td>\n",
              "      <td>흙애서 렌틸콩 1공기 고구마  감자  양파  당근  버섯  파프리카  브로콜리 적...</td>\n",
              "      <td>https://cloudfront.haemukja.com/vh.php?url=htt...</td>\n",
              "      <td>NaN</td>\n",
              "      <td>\\n흙애서의 깨끗하고 신선한 렌틸콩으로 만든 렌틸콩 카레라이스!\\n고단백 식품으로 ...</td>\n",
              "      <td>NaN</td>\n",
              "      <td>NaN</td>\n",
              "    </tr>\n",
              "    <tr>\n",
              "      <th>3</th>\n",
              "      <td>해먹남녀</td>\n",
              "      <td>4</td>\n",
              "      <td>초간단 일본식 버섯덮밥\\n버섯덮밥</td>\n",
              "      <td>팽이버섯 1줌 양파 1 2개 표고버섯 5개 쪽파 약간 가쓰오부시 1줌 다시마 1조...</td>\n",
              "      <td>https://d1hk7gw6lgygff.cloudfront.net/uploads/...</td>\n",
              "      <td>NaN</td>\n",
              "      <td>\\n오늘도 참을 수 없는 맛을 들고 온 참치마요가 왔어!!!\\n해머거들 요즘 봄이라...</td>\n",
              "      <td>NaN</td>\n",
              "      <td>NaN</td>\n",
              "    </tr>\n",
              "    <tr>\n",
              "      <th>4</th>\n",
              "      <td>해먹남녀</td>\n",
              "      <td>5</td>\n",
              "      <td>배추국물떡볶이\\n배추국물떡볶이</td>\n",
              "      <td>배추 6장 떡볶이떡 4줌 양파 1 2개 쪽파 5대 건멸치 큰것 15마리 다시마 4...</td>\n",
              "      <td>https://cloudfront.haemukja.com/vh.php?url=htt...</td>\n",
              "      <td>NaN</td>\n",
              "      <td>\\n앨샘입니다^^ 겨울배추를 넣어 깔끔한 국물맛을 낸 떠 먹는 떡볶이에요.\\n냉동실...</td>\n",
              "      <td>NaN</td>\n",
              "      <td>NaN</td>\n",
              "    </tr>\n",
              "  </tbody>\n",
              "</table>\n",
              "</div>"
            ],
            "text/plain": [
              "  SOURCE  NUM                      title  \\\n",
              "0   해먹남녀    1      내 아이를 위한 건강한 이유식\\n전복죽   \n",
              "1   해먹남녀    2    부드러운 식감! 포만감 가득!\\n호박찜나물   \n",
              "2   해먹남녀    3  뉴요커 입맛 사로잡은 식품\\n렌틸콩 카레라이스   \n",
              "3   해먹남녀    4         초간단 일본식 버섯덮밥\\n버섯덮밥   \n",
              "4   해먹남녀    5           배추국물떡볶이\\n배추국물떡볶이   \n",
              "\n",
              "                                          ingredient  \\\n",
              "0            당근 10g 양파 20g 전복 1개 물 3 5컵 참기름 조금 쌀 35g   \n",
              "1   애호박 1개  양념  다진마늘 1 2큰술 간장 2큰술 설탕 1큰술 소금 1 3작은...   \n",
              "2   흙애서 렌틸콩 1공기 고구마  감자  양파  당근  버섯  파프리카  브로콜리 적...   \n",
              "3   팽이버섯 1줌 양파 1 2개 표고버섯 5개 쪽파 약간 가쓰오부시 1줌 다시마 1조...   \n",
              "4   배추 6장 떡볶이떡 4줌 양파 1 2개 쪽파 5대 건멸치 큰것 15마리 다시마 4...   \n",
              "\n",
              "                                                 pic  VIEW  \\\n",
              "0  https://d1hk7gw6lgygff.cloudfront.net/video/97...   NaN   \n",
              "1  https://cloudfront.haemukja.com/vh.php?url=htt...   NaN   \n",
              "2  https://cloudfront.haemukja.com/vh.php?url=htt...   NaN   \n",
              "3  https://d1hk7gw6lgygff.cloudfront.net/uploads/...   NaN   \n",
              "4  https://cloudfront.haemukja.com/vh.php?url=htt...   NaN   \n",
              "\n",
              "                                            RECIPE-1  RECIPE-2  INTRO  \n",
              "0  \\n당근과 양파는 0.6cm 정도 크기로 다진다.\\n전복은 살을 떼어내고 입과 내장...       NaN    NaN  \n",
              "1  \\n안녕하세요. 푸드텔러 입니다. :)\\n이번에는 건강과 다이어트에도 좋은 호박찜나...       NaN    NaN  \n",
              "2  \\n흙애서의 깨끗하고 신선한 렌틸콩으로 만든 렌틸콩 카레라이스!\\n고단백 식품으로 ...       NaN    NaN  \n",
              "3  \\n오늘도 참을 수 없는 맛을 들고 온 참치마요가 왔어!!!\\n해머거들 요즘 봄이라...       NaN    NaN  \n",
              "4  \\n앨샘입니다^^ 겨울배추를 넣어 깔끔한 국물맛을 낸 떠 먹는 떡볶이에요.\\n냉동실...       NaN    NaN  "
            ]
          },
          "execution_count": 67,
          "metadata": {},
          "output_type": "execute_result"
        }
      ]
    },
    {
      "cell_type": "code",
      "metadata": {
        "id": "Btugg6v9oQDi"
      },
      "source": [
        "import re"
      ],
      "execution_count": null,
      "outputs": []
    },
    {
      "cell_type": "code",
      "metadata": {
        "id": "jQz1bvgJoWbw"
      },
      "source": [
        "# 숫자와 한글 단위 표현을 삭제"
      ],
      "execution_count": null,
      "outputs": []
    },
    {
      "cell_type": "code",
      "metadata": {
        "id": "ENNwQt2PoQDj"
      },
      "source": [
        "def cleaning(text):\n",
        "    _filter = re.compile('[0-9]+[가-힣a-zA-Z]+|(조금|큰것|약간|반|한줌|크게|적당량| 개 | 대 | 중 | 소 )|[0-9]')\n",
        "    text = _filter.sub(' ', text)\n",
        "    text = \" \".join([x for x in text.split(\" \") if x!=\"\"])\n",
        "    return text"
      ],
      "execution_count": null,
      "outputs": []
    },
    {
      "cell_type": "code",
      "metadata": {
        "id": "JWA_ak5IoQDj"
      },
      "source": [
        "# 정규표현식으로 필요없는 부분제거하는 함수만들기\n",
        "# 데이터프레임에 apply적용\n",
        "data['ingredient'] = data['ingredient'].apply(cleaning)"
      ],
      "execution_count": null,
      "outputs": []
    },
    {
      "cell_type": "code",
      "metadata": {
        "id": "1fo_9IBcoQDj",
        "outputId": "c0965478-f347-4c34-b6fa-31ff57610161"
      },
      "source": [
        "data['ingredient'][210]"
      ],
      "execution_count": null,
      "outputs": [
        {
          "data": {
            "text/plain": [
              "'연어통조림 밥 한공기 계란 양파 건마늘 쯔유 물 설탕 겨자 데리야끼소스 마요네즈 어린잎채소'"
            ]
          },
          "execution_count": 71,
          "metadata": {},
          "output_type": "execute_result"
        }
      ]
    },
    {
      "cell_type": "code",
      "metadata": {
        "id": "bFv8ZnPeoQDk"
      },
      "source": [
        "data.to_excel('.xlsx') # data를 엑셀파일로 저장"
      ],
      "execution_count": null,
      "outputs": []
    }
  ]
}